{
 "cells": [
  {
   "cell_type": "markdown",
   "metadata": {},
   "source": [
    "### **Dataset Column Descriptions**\n",
    "\n",
    "1. **`symbol` (object)**:\n",
    "   - The stock ticker symbol, which is a short code representing a specific stock (e.g., AAPL for Apple, MSFT for Microsoft).\n",
    "\n",
    "2. **`streak_len` (object)**:\n",
    "   - The length of a streak, which refers to the number of consecutive days the stock price has been increasing or decreasing.\n",
    "\n",
    "3. **`direction` (int64)**:\n",
    "   - The direction of the stock price movement on a given day:\n",
    "     - `1`: The stock price increased.\n",
    "     - `-1`: The stock price decreased.\n",
    "     - `0`: The stock price did not change (if applicable).\n",
    "\n",
    "4. **`occurrence` (object)**:\n",
    "   - How often a specific event or pattern happens (e.g., how frequently the stock price increases or decreases).\n",
    "\n",
    "5. **`performance` (int64)**:\n",
    "   - A numeric score or metric that represents how well the stock is performing. Higher values usually mean better performance.\n",
    "\n",
    "6. **`vol` (int64)**:\n",
    "   - The trading volume, which is the total number of shares traded for the stock on a given day. Higher volume means more trading activity.\n",
    "\n",
    "7. **`ma5_pos` (int64)**:\n",
    "   - The position of the stock price relative to its 5-day moving average (average price over the last 5 days):\n",
    "     - `1`: The stock price is above the 5-day moving average.\n",
    "     - `-1`: The stock price is below the 5-day moving average.\n",
    "     - `0`: The stock price is equal to the 5-day moving average (if applicable).\n",
    "\n",
    "8. **`next_day_actual` (int64)**:\n",
    "   - The actual direction of the stock price movement on the **next day**:\n",
    "     - `1`: The stock price increased.\n",
    "     - `-1`: The stock price decreased.\n",
    "     - `0`: The stock price did not change (if applicable).\n",
    "   - This is the **target variable** for the prediction task.\n",
    "\n",
    "9. **`bin_name` (object)**:\n",
    "   - A category or group that the stock belongs to, based on certain criteria like price ranges or performance levels."
   ]
  },
  {
   "cell_type": "markdown",
   "metadata": {},
   "source": []
  }
 ],
 "metadata": {
  "language_info": {
   "name": "python"
  }
 },
 "nbformat": 4,
 "nbformat_minor": 2
}
