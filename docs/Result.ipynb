{
 "cells": [
  {
   "cell_type": "markdown",
   "metadata": {},
   "source": [
    "### **Abstract**\n",
    "This project explores the use of machine learning models for stock and cryptocurrency\n",
    "market analysis. It focuses on data preprocessing, feature engineering, and model\n",
    "evaluation to identify potential trends and patterns. By experimenting with various\n",
    "machine learning techniques, the study aims to assess their effectiveness in predicting\n",
    "market movements. While financial markets remain inherently unpredictable, this\n",
    "project provides insights into the strengths and limitations of different approaches,\n",
    "contributing to a deeper understanding of machine learning’s role in market forecasting."
   ]
  },
  {
   "cell_type": "markdown",
   "metadata": {},
   "source": []
  },
  {
   "cell_type": "markdown",
   "metadata": {},
   "source": [
    "### **Conclusion**\n",
    "\n",
    "#### **Key Findings**\n",
    "\n",
    "##### **1. Model Performance**\n",
    "\n",
    "| **Metric**               | **Random Forest**          | **XGBoost**               |\n",
    "|--------------------------|---------------------------|---------------------------|\n",
    "| **Training Accuracy**    | 59.53%                     | 55.34%                     |\n",
    "| **Test Accuracy**        | 51.39%                     | 51.39%                     |\n",
    "| **AUC-ROC**             | 0.504                      | 0.515                      |\n",
    "| **CV Accuracy (Avg)**   | 52.56% (±0.68%)            | 51.72% (±1.19%)            |\n",
    "| **Top 3 Features**      | 1. `vol_-1` (6.40%)        | 1. `ma5_neg_0` (12.25%)    |\n",
    "|                          | 2. `vol_1` (6.36%)        | 2. `vol_-1` (6.96%)        |\n",
    "|                          | 3. `streak_len_4` (6.25%) | 3. `streak_len_3` (6.22%)  |\n",
    "| **Strengths**           | - More stable CV results   | - Better generalization    |\n",
    "|                          | - Captures volume trends  | - Stronger MA signals      |\n",
    "| **Weaknesses**          | - Prone to overfitting     | - Higher CV variability    |\n",
    "| **Practical Use Case**  | Volume-based strategies    | MA-based strategies        |\n",
    "\n",
    "- Both models achieved identical **test accuracy (51.39%)**, barely exceeding random chance.\n",
    "- **XGBoost** showed better generalization (AUC-ROC: 0.515 vs. 0.504) despite lower training accuracy.\n",
    "- Random Forest’s tighter cross-validation SD (±0.68% vs. ±1.19%) suggests more stable performance.\n",
    "\n",
    "##### **2. Feature Insights**\n",
    "- **Volume Matters:** Both models prioritized recent trading volume (`vol_-1` ranked #1 in RF, #2 in XGBoost).\n",
    "- **XGBoost Preferred Moving Averages:** `ma5_neg_0` (12.25% importance) was its top predictor.\n",
    "- **RF Focused on Streaks:** Price streak features (`streak_len_3/4/5`) dominated its top 5.\n",
    "\n",
    "##### **3. Limitations**\n",
    "- The 1-2% edge over random guessing is unlikely to be profitable after transaction costs.\n",
    "- Zero importance for some features (e.g., `direction_0` in XGBoost) suggests potential redundancy.\n",
    "\n",
    "The feature importance results provide actionable insights for refining technical trading strategies.\n",
    "\n"
   ]
  }
 ],
 "metadata": {
  "language_info": {
   "name": "python"
  }
 },
 "nbformat": 4,
 "nbformat_minor": 2
}
